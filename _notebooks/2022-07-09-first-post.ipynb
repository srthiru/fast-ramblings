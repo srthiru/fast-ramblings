{
 "cells": [
  {
   "cell_type": "markdown",
   "metadata": {},
   "source": [
    "# \"My first blog post\"\n",
    "> \"Awesome summary\"\n",
    "\n",
    "- toc:true\n",
    "- branch: main\n",
    "- badges: true\n",
    "- comments: true\n",
    "- author: Thiru\n",
    "- categories: [fastpages, jupyter]"
   ]
  },
  {
   "cell_type": "markdown",
   "metadata": {},
   "source": [
    "Just a trial post"
   ]
  }
 ],
 "metadata": {
  "language_info": {
   "name": "python"
  },
  "orig_nbformat": 4
 },
 "nbformat": 4,
 "nbformat_minor": 2
}
